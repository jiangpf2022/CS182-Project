{
 "cells": [
  {
   "cell_type": "code",
   "execution_count": null,
   "metadata": {},
   "outputs": [],
   "source": [
    "import pandas as pd\n",
    "import numpy as np\n",
    "import seaborn as sns\n",
    "import matplotlib.pyplot as plt\n",
    "import warnings\n",
    "from termcolor import colored\n",
    "\n",
    "from sklearn.preprocessing import MinMaxScaler\n",
    "from sklearn.model_selection import train_test_split, GridSearchCV, cross_val_score, KFold\n",
    "from sklearn.ensemble import RandomForestClassifier\n",
    "from sklearn import metrics\n",
    "from sklearn.linear_model import LogisticRegression\n",
    "from sklearn.svm import SVC\n",
    "from sklearn.tree import DecisionTreeClassifier\n",
    "from sklearn.neighbors import KNeighborsClassifier\n",
    "from sklearn.naive_bayes import GaussianNB\n",
    "\n",
    "print(colored('\\nAll libraries imported succesfully.', 'green'))\n",
    "pd.options.mode.copy_on_write = True # Allow re-write on variable\n",
    "sns.set_style('darkgrid') # Seaborn style\n",
    "warnings.filterwarnings('ignore') # Ignore warnings\n",
    "pd.set_option('display.max_columns', None) # Setting this option will print all collumns of a dataframe\n",
    "pd.set_option('display.max_colwidth', None) # Setting this option will print all of the data in a feature\n",
    "sns.color_palette(\"cool_r\", n_colors=1)\n",
    "sns.set_palette(\"cool_r\")\n",
    "print(colored('\\nAll libraries Configed succesfully.', 'green'))\n"
   ]
  }
 ],
 "metadata": {
  "language_info": {
   "name": "python"
  }
 },
 "nbformat": 4,
 "nbformat_minor": 2
}
